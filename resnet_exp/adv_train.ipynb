{
 "cells": [
  {
   "cell_type": "code",
   "execution_count": 77,
   "metadata": {},
   "outputs": [],
   "source": [
    "import warnings\n",
    "warnings.filterwarnings('ignore')\n",
    "from keras.models import load_model\n",
    "\n",
    "import tensorflow as tf\n",
    "tf.compat.v1.disable_eager_execution()\n",
    "\n",
    "\n",
    "from art import config\n",
    "from art.utils import load_dataset, get_file\n",
    "from art.estimators.classification import KerasClassifier\n",
    "from art.attacks.evasion import FastGradientMethod, BasicIterativeMethod, ProjectedGradientDescent\n",
    "from art.defences.trainer import AdversarialTrainer\n",
    "import pandas as pd\n",
    "import numpy as np\n",
    "\n",
    "%matplotlib inline\n",
    "import matplotlib.pyplot as plt"
   ]
  },
  {
   "cell_type": "code",
   "execution_count": 78,
   "metadata": {},
   "outputs": [
    {
     "data": {
      "text/plain": [
       "((28, 28, 1), (10,))"
      ]
     },
     "execution_count": 78,
     "metadata": {},
     "output_type": "execute_result"
    }
   ],
   "source": [
    "(x_train, y_train), (x_test, y_test), min_, max_ = load_dataset('mnist')\n",
    "\n",
    "(x_train[0].shape, y_train[0].shape)"
   ]
  },
  {
   "cell_type": "code",
   "execution_count": 80,
   "metadata": {},
   "outputs": [],
   "source": [
    "save_path = \"C:/Niranjan/Ashoka/Semester 8/Thesis/pretrained_models/adv\""
   ]
  },
  {
   "cell_type": "code",
   "execution_count": 82,
   "metadata": {},
   "outputs": [
    {
     "name": "stdout",
     "output_type": "stream",
     "text": [
      "Model: \"sequential\"\n",
      "_________________________________________________________________\n",
      " Layer (type)                Output Shape              Param #   \n",
      "=================================================================\n",
      " conv2d (Conv2D)             (None, 26, 26, 32)        320       \n",
      "                                                                 \n",
      " max_pooling2d (MaxPooling2D  (None, 13, 13, 32)       0         \n",
      " )                                                               \n",
      "                                                                 \n",
      " conv2d_1 (Conv2D)           (None, 11, 11, 64)        18496     \n",
      "                                                                 \n",
      " max_pooling2d_1 (MaxPooling  (None, 5, 5, 64)         0         \n",
      " 2D)                                                             \n",
      "                                                                 \n",
      " flatten (Flatten)           (None, 1600)              0         \n",
      "                                                                 \n",
      " dense (Dense)               (None, 128)               204928    \n",
      "                                                                 \n",
      " dense_1 (Dense)             (None, 10)                1290      \n",
      "                                                                 \n",
      "=================================================================\n",
      "Total params: 225,034\n",
      "Trainable params: 225,034\n",
      "Non-trainable params: 0\n",
      "_________________________________________________________________\n"
     ]
    }
   ],
   "source": [
    "path = save_path + \"/mnist_cnn_original.h5\"\n",
    "classifier_model = load_model(path)\n",
    "classifier = KerasClassifier(clip_values=(min_, max_), model=classifier_model, use_logits=False)\n",
    "\n",
    "classifier_model.summary()"
   ]
  },
  {
   "cell_type": "code",
   "execution_count": 87,
   "metadata": {},
   "outputs": [
    {
     "name": "stdout",
     "output_type": "stream",
     "text": [
      "Model: \"sequential_1\"\n",
      "_________________________________________________________________\n",
      " Layer (type)                Output Shape              Param #   \n",
      "=================================================================\n",
      " conv2d_2 (Conv2D)           (None, 26, 26, 32)        320       \n",
      "                                                                 \n",
      " max_pooling2d_2 (MaxPooling  (None, 13, 13, 32)       0         \n",
      " 2D)                                                             \n",
      "                                                                 \n",
      " conv2d_3 (Conv2D)           (None, 11, 11, 64)        18496     \n",
      "                                                                 \n",
      " max_pooling2d_3 (MaxPooling  (None, 5, 5, 64)         0         \n",
      " 2D)                                                             \n",
      "                                                                 \n",
      " flatten_1 (Flatten)         (None, 1600)              0         \n",
      "                                                                 \n",
      " dense_2 (Dense)             (None, 128)               204928    \n",
      "                                                                 \n",
      " dense_3 (Dense)             (None, 10)                1290      \n",
      "                                                                 \n",
      "=================================================================\n",
      "Total params: 225,034\n",
      "Trainable params: 225,034\n",
      "Non-trainable params: 0\n",
      "_________________________________________________________________\n"
     ]
    }
   ],
   "source": [
    "path = f'{save_path}/mnist_cnn_trained.h5'\n",
    "robust_classifier_model = load_model(path)\n",
    "robust_classifier = KerasClassifier(clip_values=(min_, max_), model=robust_classifier_model, use_logits=False )\n",
    "\n",
    "robust_classifier_model.summary()"
   ]
  },
  {
   "cell_type": "code",
   "execution_count": 102,
   "metadata": {},
   "outputs": [
    {
     "name": "stdout",
     "output_type": "stream",
     "text": [
      "Model: \"sequential_2\"\n",
      "_________________________________________________________________\n",
      " Layer (type)                Output Shape              Param #   \n",
      "=================================================================\n",
      " conv2d_4 (Conv2D)           (None, 26, 26, 32)        320       \n",
      "                                                                 \n",
      " max_pooling2d_4 (MaxPooling  (None, 13, 13, 32)       0         \n",
      " 2D)                                                             \n",
      "                                                                 \n",
      " conv2d_5 (Conv2D)           (None, 11, 11, 64)        18496     \n",
      "                                                                 \n",
      " max_pooling2d_5 (MaxPooling  (None, 5, 5, 64)         0         \n",
      " 2D)                                                             \n",
      "                                                                 \n",
      " flatten_2 (Flatten)         (None, 1600)              0         \n",
      "                                                                 \n",
      " dense_4 (Dense)             (None, 128)               204928    \n",
      "                                                                 \n",
      " dense_5 (Dense)             (None, 10)                1290      \n",
      "                                                                 \n",
      "=================================================================\n",
      "Total params: 225,034\n",
      "Trainable params: 225,034\n",
      "Non-trainable params: 0\n",
      "_________________________________________________________________\n"
     ]
    }
   ],
   "source": [
    "path = f'{save_path}/mnist_cnn_random.h5'\n",
    "random_classifier_model = load_model(path)\n",
    "random_classifier = KerasClassifier(clip_values=(min_, max_), model=random_classifier_model, use_logits=False )\n",
    "\n",
    "random_classifier_model.summary()"
   ]
  },
  {
   "cell_type": "code",
   "execution_count": 88,
   "metadata": {},
   "outputs": [],
   "source": [
    "# define a function that returns all mnist images from a particular class\n",
    "def get_images_of_class(x, y, class_n=0):\n",
    "    # add x and y to a dataframe\n",
    "    data_df = pd.DataFrame({'x': list(x), 'y': list(y)})\n",
    "\n",
    "    # y is one hot encoded, convert it to a single number\n",
    "    data_df['y'] = data_df['y'].apply(lambda x: np.argmax(x))\n",
    "\n",
    "    # filter the dataframe to get only the rows where y is equal to class_n\n",
    "    data_df = data_df[data_df['y'] == class_n]\n",
    "    \n",
    "    # return x and y columns as arrays\n",
    "    return np.array(data_df['x'].tolist()), np.array(data_df['y'].tolist())\n",
    "   "
   ]
  },
  {
   "cell_type": "code",
   "execution_count": 89,
   "metadata": {},
   "outputs": [
    {
     "data": {
      "text/plain": [
       "((980, 28, 28, 1), (980,))"
      ]
     },
     "execution_count": 89,
     "metadata": {},
     "output_type": "execute_result"
    }
   ],
   "source": [
    "x,y = get_images_of_class(x_test, y_test, 0)\n",
    "x.shape, y.shape"
   ]
  },
  {
   "cell_type": "code",
   "execution_count": 90,
   "metadata": {},
   "outputs": [
    {
     "name": "stdout",
     "output_type": "stream",
     "text": [
      "Accuracy on class 0:  0.9948979591836735\n"
     ]
    }
   ],
   "source": [
    "# check accuracy on x\n",
    "preds = np.argmax(classifier.predict(x), axis=1)\n",
    "num_correct = np.sum(preds == y)\n",
    "\n",
    "print(\"Accuracy on class 0: \", num_correct / len(y))"
   ]
  },
  {
   "cell_type": "code",
   "execution_count": 91,
   "metadata": {},
   "outputs": [
    {
     "name": "stdout",
     "output_type": "stream",
     "text": [
      "Accuracy on class 0:  0.9948979591836735\n"
     ]
    }
   ],
   "source": [
    "preds = np.argmax(robust_classifier.predict(x), axis=1)\n",
    "num_correct = np.sum(preds == y)\n",
    "\n",
    "print(\"Accuracy on class 0: \", num_correct / len(y))"
   ]
  },
  {
   "cell_type": "code",
   "execution_count": 96,
   "metadata": {},
   "outputs": [
    {
     "name": "stdout",
     "output_type": "stream",
     "text": [
      "Adv Accuracy on class 0:  0.29081632653061223\n"
     ]
    }
   ],
   "source": [
    "attacker = FastGradientMethod(classifier, eps=0.4)\n",
    "x_test_adv = attacker.generate(x, y)\n",
    "\n",
    "# check accuracy on x_test_adv\n",
    "preds = np.argmax(classifier.predict(x_test_adv), axis=1)\n",
    "num_correct = np.sum(preds == y)\n",
    "\n",
    "print(\"Adv Accuracy on class 0: \", num_correct / len(y))"
   ]
  },
  {
   "cell_type": "code",
   "execution_count": 97,
   "metadata": {},
   "outputs": [
    {
     "name": "stdout",
     "output_type": "stream",
     "text": [
      "Adv Accuracy on class 0:  0.7438775510204082\n"
     ]
    }
   ],
   "source": [
    "attacker = FastGradientMethod(robust_classifier, eps=0.4)\n",
    "x_test_adv = attacker.generate(x, y)\n",
    "\n",
    "# check accuracy on x_test_adv\n",
    "preds = np.argmax(robust_classifier.predict(x_test_adv), axis=1)\n",
    "num_correct = np.sum(preds == y)\n",
    "\n",
    "print(\"Adv Accuracy on class 0: \", num_correct / len(y))"
   ]
  },
  {
   "cell_type": "code",
   "execution_count": null,
   "metadata": {},
   "outputs": [],
   "source": []
  },
  {
   "cell_type": "code",
   "execution_count": 103,
   "metadata": {},
   "outputs": [],
   "source": [
    "from keras.models import Model\n",
    "\n",
    "def get_class_activations(x,y,model='robust'):\n",
    "  \n",
    "  assert model in ['robust', 'normal', \"random\"], \"model should be either 'robust' or 'normal'\"\n",
    "  if model == 'robust':\n",
    "    flatten_layer = Model(inputs=robust_classifier_model.input, outputs=robust_classifier_model.get_layer('flatten_1').output)\n",
    "  elif model == 'normal':\n",
    "    flatten_layer = Model(inputs=classifier_model.input, outputs=classifier_model.get_layer('flatten').output)\n",
    "  elif model == 'random':\n",
    "    flatten_layer = Model(inputs=random_classifier_model.input, outputs=random_classifier_model.get_layer('flatten_2').output)\n",
    "\n",
    "  return flatten_layer.predict(x)"
   ]
  },
  {
   "cell_type": "code",
   "execution_count": 51,
   "metadata": {},
   "outputs": [],
   "source": [
    "from sklearn.decomposition import PCA\n",
    "from sklearn.preprocessing import StandardScaler"
   ]
  },
  {
   "cell_type": "code",
   "execution_count": 47,
   "metadata": {},
   "outputs": [],
   "source": [
    "def estimate_dimensions_PCA(activations, threshold=0.95):\n",
    "  pca = PCA()\n",
    "  activations = StandardScaler().fit_transform(activations)\n",
    "  pca.fit(activations)\n",
    "  n_dimensions = np.argmax(np.cumsum(pca.explained_variance_ratio_) > threshold) + 1\n",
    "  return n_dimensions"
   ]
  },
  {
   "cell_type": "code",
   "execution_count": 104,
   "metadata": {},
   "outputs": [],
   "source": [
    "normal_CAM_dims = []\n",
    "robust_CAM_dims = []\n",
    "random_CAM_dims = []\n",
    "normal_cAdv_acc = []\n",
    "robust_cAdv_acc = []\n",
    "random_cAdv_acc = []\n",
    "\n",
    "\n",
    "for i in range(10):\n",
    "  x, y = get_images_of_class(x_train, y_train, i)\n",
    "  normal_acts = get_class_activations(x, y, model='normal')\n",
    "  robust_acts = get_class_activations(x, y, model='robust')\n",
    "  random_acts = get_class_activations(x, y, model='random')\n",
    "\n",
    "  normal_CAM_dims.append(estimate_dimensions_PCA(normal_acts))\n",
    "  robust_CAM_dims.append(estimate_dimensions_PCA(robust_acts))\n",
    "  random_CAM_dims.append(estimate_dimensions_PCA(random_acts))\n"
   ]
  },
  {
   "cell_type": "code",
   "execution_count": 105,
   "metadata": {},
   "outputs": [],
   "source": [
    "def get_classwise_adv_accuracy(classifier, x, y, eps=0.4):\n",
    "  attacker = FastGradientMethod(classifier, eps=eps)\n",
    "  x_adv = attacker.generate(x, y)\n",
    "  preds = np.argmax(classifier.predict(x_adv), axis=1)\n",
    "  num_correct = np.sum(preds == y)\n",
    "  return num_correct / len(y)"
   ]
  },
  {
   "cell_type": "code",
   "execution_count": 107,
   "metadata": {},
   "outputs": [],
   "source": [
    "for i in range(10):\n",
    "  x, y = get_images_of_class(x_test, y_test, i)\n",
    "  normal_cAdv_acc.append(get_classwise_adv_accuracy(classifier, x, y))\n",
    "  robust_cAdv_acc.append(get_classwise_adv_accuracy(robust_classifier, x, y))\n",
    "  random_cAdv_acc.append(get_classwise_adv_accuracy(random_classifier, x, y))"
   ]
  },
  {
   "cell_type": "code",
   "execution_count": 106,
   "metadata": {},
   "outputs": [
    {
     "data": {
      "text/plain": [
       "([325, 197, 358, 372, 347, 351, 299, 306, 364, 305],\n",
       " [152, 97, 141, 157, 174, 142, 150, 131, 183, 157],\n",
       " [530, 296, 536, 574, 502, 533, 498, 444, 596, 507])"
      ]
     },
     "execution_count": 106,
     "metadata": {},
     "output_type": "execute_result"
    }
   ],
   "source": [
    "normal_CAM_dims, robust_CAM_dims, random_CAM_dims"
   ]
  },
  {
   "cell_type": "code",
   "execution_count": 108,
   "metadata": {},
   "outputs": [
    {
     "data": {
      "text/plain": [
       "([0.29081632653061223,\n",
       "  0.0,\n",
       "  0.13178294573643412,\n",
       "  0.01089108910891089,\n",
       "  0.034623217922606926,\n",
       "  0.005605381165919282,\n",
       "  0.18684759916492694,\n",
       "  0.0,\n",
       "  0.11806981519507187,\n",
       "  0.0019821605550049554],\n",
       " [0.7438775510204082,\n",
       "  0.0,\n",
       "  0.5523255813953488,\n",
       "  0.22871287128712872,\n",
       "  0.34623217922606925,\n",
       "  0.0257847533632287,\n",
       "  0.5104384133611691,\n",
       "  0.0038910505836575876,\n",
       "  0.7073921971252567,\n",
       "  0.04360753221010902],\n",
       " [0.0,\n",
       "  0.0052863436123348016,\n",
       "  0.0,\n",
       "  0.0,\n",
       "  0.0,\n",
       "  0.0,\n",
       "  0.018789144050104383,\n",
       "  0.0029182879377431907,\n",
       "  0.0,\n",
       "  0.01684836471754212])"
      ]
     },
     "execution_count": 108,
     "metadata": {},
     "output_type": "execute_result"
    }
   ],
   "source": [
    "normal_cAdv_acc, robust_cAdv_acc, random_cAdv_acc"
   ]
  },
  {
   "cell_type": "code",
   "execution_count": 128,
   "metadata": {},
   "outputs": [],
   "source": [
    "import seaborn as sns\n",
    "import matplotlib.pyplot as plt\n",
    "\n",
    "# plot accuracy against dimesnion\n",
    "\n",
    "plot_df = pd.DataFrame({\n",
    "    'normal_dim': normal_CAM_dims,\n",
    "    'robust_dim': robust_CAM_dims,\n",
    "    'random_dim': random_CAM_dims,\n",
    "    'normal_adv_acc': normal_cAdv_acc,\n",
    "    'robust_adv_acc': robust_cAdv_acc,\n",
    "    'random_adv_acc': random_cAdv_acc\n",
    "})\n",
    "round_to_nearest_5 = lambda x: int(5 * round(x/5))\n",
    "# multiply by 100\n",
    "plot_df['normal_adv_acc'] = plot_df['normal_adv_acc'] * 100\n",
    "plot_df['robust_adv_acc'] = plot_df['robust_adv_acc'] * 100\n",
    "plot_df['random_adv_acc'] = plot_df['random_adv_acc'] * 100\n",
    "\n",
    "# # round accs to nearest 5\n",
    "# plot_df['normal_adv_acc'] = plot_df['normal_adv_acc'].apply(round_to_nearest_5)\n",
    "# plot_df['robust_adv_acc'] = plot_df['robust_adv_acc'].apply(round_to_nearest_5)\n",
    "# plot_df['random_adv_acc'] = plot_df['random_adv_acc'].apply(round_to_nearest_5)\n",
    "\n"
   ]
  },
  {
   "cell_type": "code",
   "execution_count": 163,
   "metadata": {},
   "outputs": [
    {
     "data": {
      "text/plain": [
       "<Figure size 1000x500 with 0 Axes>"
      ]
     },
     "metadata": {},
     "output_type": "display_data"
    },
    {
     "data": {
      "image/png": "[encoded data removed]",
      "text/plain": [
       "<Figure size 847.125x500 with 1 Axes>"
      ]
     },
     "metadata": {},
     "output_type": "display_data"
    }
   ],
   "source": [
    "\n",
    "\n",
    "\n",
    "normal_df = plot_df[['normal_dim', 'normal_adv_acc']]\n",
    "robust_df = plot_df[['robust_dim', 'robust_adv_acc']]\n",
    "random_df = plot_df[['random_dim', 'random_adv_acc']]\n",
    "\n",
    "avg_df = pd.DataFrame({'model': ['normal', 'robust', 'random'], \n",
    "                       'avg_dim': [normal_df['normal_dim'].mean(), robust_df['robust_dim'].mean(), random_df['random_dim'].mean()],\n",
    "                       'avg_acc': [normal_df['normal_adv_acc'].mean(), robust_df['robust_adv_acc'].mean(), random_df['random_adv_acc'].mean()]\n",
    "                       })\n",
    "\n",
    "avg_df\n",
    "\n",
    "# plot avg dim vs avg acc with avg dif\n",
    "plt.figure(figsize=(10, 5))\n",
    "sns.set_style('whitegrid')\n",
    "sns.relplot(y='avg_dim', x='avg_acc', data=avg_df, hue='model', s=100, kind='scatter', aspect=1.5)\n",
    "# fit a reg plot of order 2 and find equation of the curve with lighter colour\n",
    "sns.regplot(y='avg_dim', x='avg_acc', data=avg_df, order=2, scatter=False, ci=None, color='black', line_kws={'lw': 0.5})\n",
    "plt.title('Average CAM Dimension and Average Adversarial Accuracy')\n",
    "plt.xlabel('Avg Adversarial Accuracy (%)')\n",
    "plt.ylabel('Avg Dimension')\n",
    "plt.show()\n",
    "\n",
    "\n"
   ]
  }
 ],
 "metadata": {
  "kernelspec": {
   "display_name": "computer-vision",
   "language": "python",
   "name": "python3"
  },
  "language_info": {
   "codemirror_mode": {
    "name": "ipython",
    "version": 3
   },
   "file_extension": ".py",
   "mimetype": "text/x-python",
   "name": "python",
   "nbconvert_exporter": "python",
   "pygments_lexer": "ipython3",
   "version": "3.9.16"
  }
 },
 "nbformat": 4,
 "nbformat_minor": 2
}
